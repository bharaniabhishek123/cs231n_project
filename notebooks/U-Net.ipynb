{
 "cells": [
  {
   "cell_type": "code",
   "execution_count": 1,
   "metadata": {
    "_cell_guid": "79c7e3d0-c299-4dcb-8224-4455121ee9b0",
    "_uuid": "d629ff2d2480ee46fbb7e2d37f6b5fab8052498a"
   },
   "outputs": [],
   "source": [
    "# Loading libraries\n",
    "import numpy as np # linear algebra\n",
    "import pandas as pd # data processing, CSV file I/O (e.g. pd.read_csv)\n",
    "import os\n",
    "from statistics import mean\n",
    "from torch.autograd import Variable\n",
    "import time\n",
    "from PIL import Image\n",
    "import random\n",
    "from skimage import io, transform\n",
    "from collections import OrderedDict\n",
    "import numpy as np\n",
    "import torch\n",
    "import torch.nn.functional as F\n",
    "import torch.nn as nn\n",
    "import torch.optim as optim\n",
    "from torch.utils.data import Dataset, DataLoader, random_split\n",
    "from torchvision import transforms, utils\n",
    "from torch import nn\n",
    "\n",
    "from torch.autograd import Variable\n",
    "from torch.nn import Linear, ReLU, CrossEntropyLoss, Sequential, Conv2d, MaxPool2d, Module, Softmax, BatchNorm2d, Dropout\n",
    "from torch.optim import Adam, SGD\n",
    "from matplotlib import pyplot as plt\n",
    "from skimage import io, transform\n",
    "import skimage\n",
    "device = torch.device('cuda:0' if torch.cuda.is_available() else 'cpu')\n",
    "from collections import defaultdict \n",
    "import cv2\n",
    "import matplotlib"
   ]
  },
  {
   "cell_type": "code",
   "execution_count": 2,
   "metadata": {},
   "outputs": [],
   "source": [
    "# Remove wrong values in small image (due to interpolation)\n",
    "def resize(img, height, width,\n",
    "           interpolation=cv2.INTER_NEAREST):\n",
    "    #use interpolation=cv2.INTER_CUBIC for image \n",
    "    \"\"\"\n",
    "    Resize an image using OpenCV.\n",
    "    Note that cv2.resize dsize is (height, width).\n",
    "\n",
    "    :param img: Input image\n",
    "    :param height: height\n",
    "    :param width: width\n",
    "    :param interpolation: cv2 interpolation type\n",
    "    :return: resized image\n",
    "    \"\"\"\n",
    "    return cv2.resize(img, (height, width), interpolation=interpolation)"
   ]
  },
  {
   "cell_type": "code",
   "execution_count": 3,
   "metadata": {},
   "outputs": [],
   "source": [
    "class ImageWithMaskDataset(Dataset):\n",
    "    \n",
    "    def __init__(self, csv_filePath, image_dir, mask_dir, transform=None):\n",
    "        train_df = pd.read_csv(csv_file_path)\n",
    "            \n",
    "#         masks = os.listdir(mask_dir)\n",
    "#         masks_df = pd.Series(masks).to_frame()\n",
    "#         masks_df.columns = ['mask_file_name']\n",
    "#         masks_df['image_id'] = masks_df.mask_file_name.apply(lambda x: x.split('_')[0])\n",
    "#         train_df = pd.merge(train_df, masks_df, on='image_id', how='outer')\n",
    "#         del masks_df\n",
    "#         print(f\"There are {len(train_df[train_df.mask_file_name.isna()])} images without a mask.\")\n",
    "\n",
    "#         ## removing items where image mask is null\n",
    "#         train_df = train_df[~train_df.mask_file_name.isna()]        \n",
    "        \n",
    "#         images = os.listdir(image_dir)\n",
    "#         images_df = pd.Series(images).to_frame()\n",
    "#         images_df.columns = ['image_file_name']\n",
    "#         images_df['image_id'] = images_df.image_file_name.apply(lambda x: x.split('.')[0])\n",
    "#         train_df = pd.merge(train_df, images_df, on='image_id', how='outer')\n",
    "#         del images_df \n",
    "#         print(f\"There are {len(train_df[train_df.image_file_name.isna()])} image_ids without a image.\")\n",
    "        \n",
    "#         ## Remove image_id not present in image_dir\n",
    "#         train_df = train_df[~train_df.image_file_name.isna()]                \n",
    "        \n",
    "        ## Remove image_id not for Karolinska\n",
    "        train_df = train_df[train_df.data_provider=='radboud']\n",
    "        \n",
    "        self.data_frame = train_df.copy()\n",
    "        \n",
    "        self.image_dir = image_dir\n",
    "        self.mask_dir = mask_dir\n",
    "        self.transform = transform\n",
    "        print('Creating dataset with {} examples'.format(len(self.data_frame)))\n",
    "        \n",
    "    def __len__(self):\n",
    "        return len(self.data_frame)\n",
    "\n",
    "    def __getitem__(self, idx):\n",
    "        \n",
    "        \n",
    "        image_id = self.data_frame.iloc[idx]['image_id']\n",
    "        image_file_path = os.path.join(self.image_dir, image_id + \".tiff\")\n",
    "        image = skimage.io.MultiImage(image_file_path)[-1]\n",
    "        \n",
    "#         image = skimage.transform.resize(image, (224, 224))                \n",
    "#         image = np.array(image)\n",
    "        \n",
    "#         image = transform.resize(image,(256,256))\n",
    "        image = resize(image, 256,256,interpolation=cv2.INTER_CUBIC )\n",
    "#         image = image / 255\n",
    "        image = image.transpose((2, 0, 1))\n",
    "        \n",
    "        \n",
    "        \n",
    "        try:\n",
    "            mask_file_path = os.path.join(self.mask_dir, image_id + \"_mask.tiff\")\n",
    "            mask = skimage.io.MultiImage(mask_file_path)[-1]\n",
    "            \n",
    "            mask = resize(mask, 256,256)\n",
    "            \n",
    "#             mask = transform.resize(mask,(256,256))\n",
    "#             mask = mask / 255\n",
    "    #         print('mask shape', mask.shape)\n",
    "            mask = mask.transpose((2, 0, 1))        \n",
    "            mask = mask[0,:,:]\n",
    "            \n",
    "#         mask = np.expand_dims(mask,axis=-1).transpose((2, 0, 1))\n",
    "        except:\n",
    "            return None\n",
    "                        \n",
    "        isup_grade = self.data_frame.iloc[idx]['isup_grade']\n",
    "\n",
    "        return (torch.from_numpy(image), torch.from_numpy(mask), isup_grade)"
   ]
  },
  {
   "cell_type": "code",
   "execution_count": 4,
   "metadata": {},
   "outputs": [],
   "source": [
    "def collate_fn(batch):\n",
    "    batch = list(filter(lambda x: x is not None, batch))\n",
    "    return torch.utils.data.dataloader.default_collate(batch)"
   ]
  },
  {
   "cell_type": "code",
   "execution_count": 5,
   "metadata": {},
   "outputs": [
    {
     "name": "stdout",
     "output_type": "stream",
     "text": [
      "Creating dataset with 5060 examples\n",
      "0 torch.Size([3, 256, 256]) torch.Size([256, 256])\n",
      "1 torch.Size([3, 256, 256]) torch.Size([256, 256])\n",
      "2 torch.Size([3, 256, 256]) torch.Size([256, 256])\n"
     ]
    }
   ],
   "source": [
    "image_dir = '/project/data/train_images'\n",
    "mask_dir = '/project/data/train_label_masks'\n",
    "csv_file_path = '/home/abharani/data/train_filtered.csv'\n",
    "\n",
    "# csv_file_path = '/kaggle/input/train-filtered/train_filtered.csv'\n",
    "# # csv_file_path =  '/kaggle/input/prostate-cancer-grade-assessment/train.csv'\n",
    "# image_dir = '/kaggle/input/prostate-cancer-grade-assessment/train_images'\n",
    "# mask_dir = '/kaggle/input/prostate-cancer-grade-assessment/train_label_masks'\n",
    "\n",
    "\n",
    "dataset_with_mask = ImageWithMaskDataset(csv_file_path, image_dir, mask_dir)\n",
    "\n",
    "for i in range(len(dataset_with_mask)):\n",
    "    sample = dataset_with_mask[i]\n",
    "    print(i, sample[0].shape, sample[1].shape)\n",
    "    \n",
    "    if i == 2:\n",
    "        plt.show()\n",
    "        break"
   ]
  },
  {
   "cell_type": "code",
   "execution_count": 6,
   "metadata": {},
   "outputs": [
    {
     "name": "stdout",
     "output_type": "stream",
     "text": [
      "Generating Small Train, Test Dataset\n",
      "Generating Small Train, Test Dataset\n",
      "Dataset set size 5060\n",
      "Train set size 150\n",
      "Validation set size 50\n",
      "Test set size 50\n"
     ]
    }
   ],
   "source": [
    "from sklearn.model_selection import train_test_split\n",
    "import torch\n",
    "from torch.utils.data import Dataset, DataLoader\n",
    "from torchvision import transforms, datasets, models\n",
    "import pandas as pd\n",
    "import os\n",
    "import skimage \n",
    "from skimage import io \n",
    "import skimage.transform\n",
    "\n",
    "\n",
    "import numpy as np\n",
    "import matplotlib.pyplot as plt\n",
    "%matplotlib inline\n",
    "from sklearn.model_selection import train_test_split\n",
    "from torch.utils.data import Subset, WeightedRandomSampler\n",
    "import torch.nn.functional as F\n",
    "from torchvision import models\n",
    "\n",
    "def train_val_dataset(dataset, val_split=0.25, generate_small=False):\n",
    "    train_idx, val_idx = train_test_split(list(range(len(dataset))), test_size=val_split)\n",
    "    datasets_created = {}\n",
    "    if generate_small:\n",
    "        print(\"Generating Small Train, Test Dataset\")\n",
    "        datasets_created['train'] = Subset(dataset, train_idx[0:200])\n",
    "        datasets_created['test'] = Subset(dataset, val_idx[0:50])\n",
    "    else:\n",
    "        datasets_created['train'] = Subset(dataset, train_idx)\n",
    "        datasets_created['test'] = Subset(dataset, val_idx)        \n",
    "    return datasets_created\n",
    "\n",
    "\n",
    "\n",
    "dataset_final = {}\n",
    "datasets_created_trial_1 = train_val_dataset(dataset_with_mask,val_split=0.10,generate_small=True)\n",
    "datasets_created_trial_2 = train_val_dataset(datasets_created_trial_1['train'],val_split=0.25,generate_small=True)\n",
    "\n",
    "dataset_final['test'] = datasets_created_trial_1['test']\n",
    "dataset_final['train'] = datasets_created_trial_2['train']\n",
    "dataset_final['val'] = datasets_created_trial_2['test']\n",
    "\n",
    "print(\"Dataset set size {}\".format(len(dataset_with_mask)))\n",
    "print(\"Train set size {}\".format(len(dataset_final['train'])))\n",
    "print(\"Validation set size {}\".format(len(dataset_final['val'])))\n",
    "print(\"Test set size {}\".format(len(dataset_final['test'])))"
   ]
  },
  {
   "cell_type": "code",
   "execution_count": 7,
   "metadata": {},
   "outputs": [
    {
     "name": "stdout",
     "output_type": "stream",
     "text": [
      "Distribution of classes: \n",
      " defaultdict(<class 'int'>, {1.0: 30, 4.0: 21, 3.0: 24, 5.0: 33, 2.0: 21, 0.0: 21})\n",
      "Class weights : \n",
      " tensor([0.0333, 0.0476, 0.0417, 0.0303, 0.0476, 0.0476])\n"
     ]
    }
   ],
   "source": [
    "count_dict = defaultdict(int)\n",
    "target_list = []\n",
    "\n",
    "#Generate target_list of all labels and count dict of all classes\n",
    "\n",
    "for i, sample in enumerate(dataset_final['train']): \n",
    "    label = sample[2]\n",
    "    count_dict[label] += 1\n",
    "    target_list.append(int(label))\n",
    "    \n",
    "print(\"Distribution of classes: \\n\", count_dict)\n",
    "\n",
    "class_count = [i for i in count_dict.values()]\n",
    "class_weights = 1./torch.tensor(class_count, dtype=torch.float) \n",
    "print(\"Class weights : \\n\", class_weights)\n",
    "\n",
    "target_list = torch.tensor(target_list)\n",
    "target_list = target_list[torch.randperm(len(target_list))]\n",
    "class_weights_all = class_weights[target_list]\n",
    "\n",
    "weighted_sampler = WeightedRandomSampler(\n",
    "    weights=class_weights_all,\n",
    "    num_samples=len(class_weights_all),\n",
    "    replacement=True\n",
    ")"
   ]
  },
  {
   "cell_type": "code",
   "execution_count": 8,
   "metadata": {},
   "outputs": [
    {
     "data": {
      "text/plain": [
       "150"
      ]
     },
     "execution_count": 8,
     "metadata": {},
     "output_type": "execute_result"
    }
   ],
   "source": [
    "len(target_list)"
   ]
  },
  {
   "cell_type": "code",
   "execution_count": 9,
   "metadata": {},
   "outputs": [],
   "source": [
    "train_loader = DataLoader(dataset_final['train'],batch_size=32, collate_fn=collate_fn, sampler = weighted_sampler, num_workers=4, pin_memory=True)\n",
    "val_loader = DataLoader(dataset_final['val'],batch_size=32, num_workers=4, collate_fn=collate_fn,pin_memory=True)\n",
    "\n",
    "dataloaders  = {'train': train_loader, 'val': val_loader}\n",
    "\n",
    "dataset_sizes = {x: len(dataset_final[x]) for x in dataset_final.keys()}"
   ]
  },
  {
   "cell_type": "code",
   "execution_count": 10,
   "metadata": {},
   "outputs": [],
   "source": [
    "# converting tensor to image\n",
    "def image_convert(image):\n",
    "    image = image.clone().cpu().numpy()\n",
    "    image = image.transpose((1,2,0))\n",
    "    image = (image * 255)\n",
    "    return image\n",
    "\n",
    "def mask_convert(mask):\n",
    "    mask = mask.clone().cpu().detach().numpy()\n",
    "    return np.squeeze(mask)\n",
    "\n",
    "def plot_img(no_):\n",
    "    iter_ = iter(train_loader)\n",
    "    images,masks, _ = next(iter_)\n",
    "    images = images.to(device)\n",
    "    masks = masks.to(device)\n",
    "    cmap = matplotlib.colors.ListedColormap(['black', 'gray', 'green', 'yellow', 'orange', 'red'])\n",
    "    plt.figure(figsize=(20,10))\n",
    "    for idx in range(0,no_):\n",
    "         image = image_convert(images[idx])\n",
    "         plt.subplot(2,no_,idx+1)\n",
    "         plt.imshow(image)\n",
    "    for idx in range(0,no_):\n",
    "         mask = mask_convert(masks[idx])\n",
    "         plt.subplot(2,no_,idx+no_+1)\n",
    "        \n",
    "         plt.imshow(mask,cmap=cmap, interpolation='nearest',)\n",
    "    plt.show()"
   ]
  },
  {
   "cell_type": "code",
   "execution_count": 11,
   "metadata": {},
   "outputs": [],
   "source": [
    "# plot_img(1)"
   ]
  },
  {
   "cell_type": "code",
   "execution_count": 12,
   "metadata": {},
   "outputs": [],
   "source": [
    "class ConvBlock(nn.Module):\n",
    "    def __init__(self,in_channels,out_channels,kernel_size=(3,3),padding=1):\n",
    "        super(ConvBlock,self).__init__()\n",
    "        self.conv = nn.Conv2d(in_channels,out_channels,kernel_size,padding=padding,bias=False)\n",
    "        self.batchnorm = nn.BatchNorm2d(out_channels,eps=1e-4)\n",
    "        self.relu = nn.ReLU(inplace=True)\n",
    "        \n",
    "    def forward(self,x):\n",
    "        x = self.conv(x)\n",
    "        x = self.batchnorm(x)\n",
    "        x = self.relu(x)\n",
    "        return x\n",
    "        \n",
    "        \n",
    "class StackEncoder(nn.Module):\n",
    "    def __init__(self,channel1,channel2,kernel_size=(3,3),padding=1):\n",
    "        super(StackEncoder,self).__init__()\n",
    "        self.maxpool = nn.MaxPool2d(kernel_size=2,stride=2)\n",
    "        self.block = nn.Sequential(\n",
    "            ConvBlock(channel1,channel2,kernel_size,padding),\n",
    "            ConvBlock(channel2,channel2,kernel_size,padding),     \n",
    "        )\n",
    "        \n",
    "    def forward(self,x):\n",
    "        big_out = self.block(x)\n",
    "        poolout = self.maxpool(big_out)\n",
    "        return big_out,poolout\n",
    "     \n",
    "        \n",
    "class StackDecoder(nn.Module):\n",
    "    def __init__(self,big_channel,channel1,channel2,kernel_size=(3,3),padding=1):\n",
    "        super(StackDecoder,self).__init__()\n",
    "        self.block = nn.Sequential(\n",
    "            ConvBlock(channel1+big_channel,channel2,kernel_size,padding),\n",
    "            ConvBlock(channel2,channel2,kernel_size,padding),\n",
    "            ConvBlock(channel2,channel2,kernel_size,padding),\n",
    "        )\n",
    "        \n",
    "    def forward(self,x,down_tensor):\n",
    "            _, channels, height, width = down_tensor.size()  \n",
    "            x = F.upsample(x, size=(height, width), mode='bilinear')\n",
    "            x = torch.cat([x, down_tensor], 1)  #combining channels of  input from encoder and upsampling input\n",
    "            x = self.block(x)\n",
    "            return x\n",
    "        \n",
    "        \n",
    "class Unet256(nn.Module):\n",
    "    def __init__(self,input_shape):\n",
    "        super(Unet256,self).__init__()\n",
    "        \n",
    "        channel,height,width = input_shape\n",
    "        \n",
    "        self.down1 = StackEncoder(channel,12,kernel_size=(3,3))  #256\n",
    "        self.down2 = StackEncoder(12,24,kernel_size=(3,3))  # 128\n",
    "        self.down3 = StackEncoder(24,46,kernel_size=(3,3))  # 64\n",
    "        self.down4 = StackEncoder(46,64,kernel_size=(3,3))  # 32\n",
    "        self.down5 = StackEncoder(64,128,kernel_size=(3,3))  #16\n",
    "        \n",
    "        self.center = ConvBlock(128,128,kernel_size=(3,3),padding=1) #16\n",
    "        \n",
    "        self.up5 = StackDecoder(128,128,64,kernel_size=(3,3))  #32\n",
    "        self.up4 = StackDecoder(64,64,46,kernel_size=(3,3)) #64\n",
    "        self.up3 = StackDecoder(46,46,24,kernel_size=(3,3))\n",
    "        self.up2 = StackDecoder(24,24,12,kernel_size=(3,3))\n",
    "        self.up1 = StackDecoder(12,12,12,kernel_size=(3,3))\n",
    "        self.conv = Conv2d(12,1,kernel_size=(1,1),bias=True)\n",
    "        \n",
    "    def forward(self,x):\n",
    "        down1,out = self.down1(x)  \n",
    "        down2,out = self.down2(out)  \n",
    "        down3,out = self.down3(out)\n",
    "        down4,out = self.down4(out)\n",
    "        down5,out = self.down5(out)\n",
    "        \n",
    "        \n",
    "        out = self.center(out)\n",
    "        \n",
    "        up5 = self.up5(out,down5)\n",
    "        up4 = self.up4(up5,down4)\n",
    "        up3 = self.up3(up4,down3)\n",
    "        up2 = self.up2(up3,down2)\n",
    "        up1 = self.up1(up2,down1)\n",
    "        \n",
    "        out = self.conv(up1)\n",
    "\n",
    "\n",
    "        return out\n",
    "    "
   ]
  },
  {
   "cell_type": "code",
   "execution_count": 13,
   "metadata": {},
   "outputs": [],
   "source": [
    "## Testing the model dry run"
   ]
  },
  {
   "cell_type": "code",
   "execution_count": 14,
   "metadata": {},
   "outputs": [],
   "source": [
    "# x = torch.zeros((5, 3, 256, 256), dtype=torch.float32)  # minibatch size 64, image size [3, 32, 32]\n",
    "# model = Unet256((3,256,256))\n",
    "# scores = model(x)\n",
    "# print(scores.size())  # you should see [5,1,256,256]\n"
   ]
  },
  {
   "cell_type": "code",
   "execution_count": 15,
   "metadata": {},
   "outputs": [],
   "source": [
    "# from torchsummary import summary\n",
    "model = Unet256((3,256,256)).to(device)\n",
    "# model"
   ]
  },
  {
   "cell_type": "code",
   "execution_count": 16,
   "metadata": {},
   "outputs": [],
   "source": [
    "class DiceBCELoss(nn.Module):\n",
    "    def __init__(self, weight=None, size_average=True):\n",
    "        super(DiceBCELoss, self).__init__()\n",
    "\n",
    "    def forward(self, inputs, targets, smooth=1):\n",
    "        \n",
    "        #comment out if your model contains a sigmoid or equivalent activation layer\n",
    "        inputs = torch.sigmoid(inputs)       \n",
    "        bce_weight = 0.5\n",
    "        #flatten label and prediction tensors\n",
    "        inputs = inputs.view(-1)\n",
    "        targets = targets.view(-1)\n",
    "        \n",
    "#         print(\"Inside DiceBCELoss inputs : {} , targets: {}\".format(inputs.shape, targets.shape))\n",
    "        \n",
    "        intersection = (inputs * targets).sum()                            \n",
    "        dice_loss = 1 - (2.*intersection + smooth)/(inputs.sum() + targets.sum() + smooth)  \n",
    "        BCE = F.binary_cross_entropy(inputs, targets, reduction='mean')\n",
    "        loss_final = BCE * bce_weight + dice_loss * (1 - bce_weight)\n",
    "        return loss_final\n",
    "\n",
    "class NewDiceBCELoss(nn.Module):\n",
    "    def __init__(self, weight=None, size_average=True):\n",
    "        super(NewDiceBCELoss, self).__init__()\n",
    "\n",
    "#     def dice(pred, targs):\n",
    "#         pred = (pred > 0).float()\n",
    "#         return 2. * (pred * targs).sum() / (pred + targs).sum()\n",
    "        \n",
    "    def forward(self, inputs, targets, smooth=1):\n",
    "               \n",
    "        #comment out if your model contains a sigmoid or equivalent activation layer\n",
    "        inputs = torch.sigmoid(inputs)       \n",
    "#         inputs = (inputs > 0).float()\n",
    "        bce_weight = 0.5\n",
    "        #flatten label and prediction tensors\n",
    "        inputs = inputs.view(-1)\n",
    "        targets = targets.view(-1)\n",
    "        \n",
    "#         print(\"Inside DiceBCELoss inputs : {} , targets: {}\".format(inputs.shape, targets.shape))\n",
    "        \n",
    "        intersection = (inputs * targets).sum()                            \n",
    "        dice_loss = 1 - (2.*intersection + smooth)/(inputs.sum() + targets.sum() + smooth)  \n",
    "        BCE = F.binary_cross_entropy(inputs, targets, reduction='mean')\n",
    "        loss_final = BCE * bce_weight + dice_loss * (1 - bce_weight)\n",
    "        return loss_final\n",
    "        \n",
    "    \n",
    "\n",
    "class IoU(nn.Module):\n",
    "    def __init__(self, weight=None, size_average=True):\n",
    "        super(IoU, self).__init__()\n",
    "\n",
    "    def forward(self, inputs, targets, smooth=1):\n",
    "        \n",
    "        #comment out if your model contains a sigmoid or equivalent activation layer\n",
    "        inputs = F.sigmoid(inputs)       \n",
    "        \n",
    "        #flatten label and prediction tensors\n",
    "        inputs = inputs.view(-1)\n",
    "        targets = targets.view(-1)\n",
    "        \n",
    "        #intersection is equivalent to True Positive count\n",
    "        #union is the mutually inclusive area of all labels & predictions \n",
    "        intersection = (inputs * targets).sum()\n",
    "        total = (inputs + targets).sum()\n",
    "        union = total - intersection \n",
    "        \n",
    "        IoU = (intersection + smooth)/(union + smooth)\n",
    "                \n",
    "        return IoU * 100\n",
    "\n",
    "    \n",
    "    \n",
    "class DiceScore(nn.Module):\n",
    "    def __init__(self, weight=None, size_average=True):\n",
    "        super(DiceScore, self).__init__()\n",
    "\n",
    "    def forward(self, inputs, targets, smooth=1):\n",
    "        \n",
    "        #comment out if your model contains a sigmoid or equivalent activation layer\n",
    "        inputs = F.sigmoid(inputs)       \n",
    "        \n",
    "        #flatten label and prediction tensors\n",
    "        inputs = inputs.view(-1)\n",
    "        targets = targets.view(-1)\n",
    "        \n",
    "        intersection = (inputs * targets).sum()                            \n",
    "        dice_score = (2.*intersection + smooth)/(inputs.sum() + targets.sum() + smooth) \n",
    "        return dice_score"
   ]
  },
  {
   "cell_type": "code",
   "execution_count": 17,
   "metadata": {},
   "outputs": [],
   "source": [
    "# criterion = DiceBCELoss()\n",
    "criterion = NewDiceBCELoss()\n",
    "\n",
    "\n",
    "learning_rate = 1e-3\n",
    "optimizer = torch.optim.Adam(model.parameters(), lr=learning_rate)"
   ]
  },
  {
   "cell_type": "code",
   "execution_count": 18,
   "metadata": {},
   "outputs": [
    {
     "name": "stdout",
     "output_type": "stream",
     "text": [
      "Epoch 1/25\n"
     ]
    },
    {
     "name": "stderr",
     "output_type": "stream",
     "text": [
      "/opt/anaconda3/envs/cs231n/lib/python3.7/site-packages/torch/nn/functional.py:2416: UserWarning: nn.functional.upsample is deprecated. Use nn.functional.interpolate instead.\n",
      "  warnings.warn(\"nn.functional.upsample is deprecated. Use nn.functional.interpolate instead.\")\n",
      "/opt/anaconda3/envs/cs231n/lib/python3.7/site-packages/torch/nn/functional.py:2506: UserWarning: Default upsampling behavior when mode=bilinear is changed to align_corners=False since 0.4.0. Please specify align_corners=True if the old behavior is desired. See the documentation of nn.Upsample for details.\n",
      "  \"See the documentation of nn.Upsample for details.\".format(mode))\n"
     ]
    },
    {
     "name": "stdout",
     "output_type": "stream",
     "text": [
      "Train loss: 0.6045052289962769\n",
      "Validation loss: 0.5481454730033875\n",
      "0m 5s\n",
      "Epoch 2/25\n",
      "Train loss: 0.5141858935356141\n",
      "Validation loss: 0.4989464282989502\n",
      "0m 5s\n",
      "Epoch 3/25\n",
      "Train loss: 0.47733065485954285\n",
      "Validation loss: 0.47637051343917847\n",
      "0m 5s\n",
      "Epoch 4/25\n",
      "Train loss: 0.4550183594226837\n",
      "Validation loss: 0.46051037311553955\n",
      "0m 5s\n",
      "Epoch 5/25\n",
      "Train loss: 0.4367042422294617\n",
      "Validation loss: 0.4466511011123657\n",
      "0m 5s\n",
      "Epoch 6/25\n",
      "Train loss: 0.4440560877323151\n",
      "Validation loss: 0.43282124400138855\n",
      "0m 5s\n",
      "Epoch 7/25\n",
      "Train loss: 0.4261517822742462\n",
      "Validation loss: 0.4189431667327881\n",
      "0m 5s\n",
      "Epoch 8/25\n",
      "Train loss: 0.37429277300834657\n",
      "Validation loss: 0.4056752622127533\n",
      "0m 5s\n",
      "Epoch 9/25\n",
      "Train loss: 0.39607295393943787\n",
      "Validation loss: 0.39111556112766266\n",
      "0m 5s\n",
      "Epoch 10/25\n",
      "Train loss: 0.3549961745738983\n",
      "Validation loss: 0.3767049312591553\n",
      "0m 5s\n",
      "Epoch 11/25\n",
      "Train loss: 0.3613690435886383\n",
      "Validation loss: 0.3622687757015228\n",
      "0m 5s\n",
      "Epoch 12/25\n",
      "Train loss: 0.3394492566585541\n",
      "Validation loss: 0.3475024551153183\n",
      "0m 5s\n",
      "Epoch 13/25\n",
      "Train loss: 0.3423210084438324\n",
      "Validation loss: 0.3331863433122635\n",
      "0m 5s\n",
      "Epoch 14/25\n",
      "Train loss: 0.3193852365016937\n",
      "Validation loss: 0.3196401447057724\n",
      "0m 5s\n",
      "Epoch 15/25\n",
      "Train loss: 0.3013548791408539\n",
      "Validation loss: 0.3042636215686798\n",
      "0m 5s\n",
      "Epoch 16/25\n",
      "Train loss: 0.2959561705589294\n",
      "Validation loss: 0.2904629707336426\n",
      "0m 5s\n",
      "Epoch 17/25\n",
      "Train loss: 0.24056487679481506\n",
      "Validation loss: 0.27927735447883606\n",
      "0m 5s\n",
      "Epoch 18/25\n",
      "Train loss: 0.2730012178421021\n",
      "Validation loss: 0.26434263586997986\n",
      "0m 5s\n",
      "Epoch 19/25\n",
      "Train loss: 0.26085159182548523\n",
      "Validation loss: 0.253173291683197\n",
      "0m 5s\n",
      "Epoch 20/25\n",
      "Train loss: 0.2282872974872589\n",
      "Validation loss: 0.23947784304618835\n",
      "0m 5s\n",
      "Epoch 21/25\n",
      "Train loss: 0.23254941403865814\n",
      "Validation loss: 0.2262633740901947\n",
      "0m 5s\n",
      "Epoch 22/25\n",
      "Train loss: 0.2129769206047058\n",
      "Validation loss: 0.21394862234592438\n",
      "0m 5s\n",
      "Epoch 23/25\n",
      "Train loss: 0.20932922065258025\n",
      "Validation loss: 0.20217669755220413\n",
      "0m 5s\n",
      "Epoch 24/25\n",
      "Train loss: 0.1836383670568466\n",
      "Validation loss: 0.18849178403615952\n",
      "0m 5s\n",
      "Epoch 25/25\n",
      "Train loss: 0.15569542348384857\n",
      "Validation loss: 0.1775534600019455\n",
      "0m 5s\n"
     ]
    }
   ],
   "source": [
    "epochs = 25\n",
    "\n",
    "\n",
    "train_loss = []\n",
    "val_loss = []\n",
    "\n",
    "for epoch in range(epochs):\n",
    "    print('Epoch {}/{}'.format(epoch + 1, epochs))\n",
    "    start_time = time.time()\n",
    "     \n",
    "\n",
    "    \n",
    "    running_train_loss = []\n",
    "    \n",
    "    for i, batch in enumerate(train_loader): \n",
    "            image,mask,_ = batch[0], batch[1], batch[2]\n",
    "            image = image.to(device,dtype=torch.float)\n",
    "            mask = mask.to(device,dtype=torch.float)\n",
    "            \n",
    "            pred_mask = model.forward(image) # forward propogation\n",
    "            \n",
    "#             print(\"pred_mask : {}, mask : {} \".format(pred_mask.shape, mask.shape))\n",
    "            loss = criterion(pred_mask,mask)\n",
    "            optimizer.zero_grad() # setting gradient to zero\n",
    "            loss.backward()\n",
    "            optimizer.step()\n",
    "            running_train_loss.append(loss.item())\n",
    "#             print(\"epoch {}, step {}\".format(epoch, i))\n",
    "                              \n",
    "\n",
    "    else:           \n",
    "        running_val_loss = []\n",
    "        \n",
    "        with torch.no_grad():\n",
    "            for val_batch in val_loader:\n",
    "                    v_image,v_mask,_ = val_batch[0], val_batch[1], val_batch[2]\n",
    "#                     image = image.to(device,dtype=torch.float)\n",
    "#                     mask = mask.to(device,dtype=torch.float)\n",
    "                \n",
    "                    v_image = v_image.to(device,dtype=torch.float)\n",
    "                    v_mask = v_mask.to(device,dtype=torch.float)                            \n",
    "                    pred_mask = model.forward(v_image)\n",
    "                    loss = criterion(pred_mask,v_mask)\n",
    "                    running_val_loss.append(loss.item())\n",
    "                    \n",
    "\n",
    "                                    \n",
    "    \n",
    "    epoch_train_loss = np.mean(running_train_loss) \n",
    "    print('Train loss: {}'.format(epoch_train_loss))                       \n",
    "    train_loss.append(epoch_train_loss)\n",
    "    \n",
    "    epoch_val_loss = np.mean(running_val_loss)\n",
    "    print('Validation loss: {}'.format(epoch_val_loss))                                \n",
    "    val_loss.append(epoch_val_loss)\n",
    "                      \n",
    "    time_elapsed = time.time() - start_time\n",
    "    print('{:.0f}m {:.0f}s'.format(time_elapsed // 60, time_elapsed % 60))"
   ]
  },
  {
   "cell_type": "code",
   "execution_count": 19,
   "metadata": {},
   "outputs": [
    {
     "data": {
      "image/png": "[encoded data removed]",
      "text/plain": [
       "<Figure size 432x288 with 1 Axes>"
      ]
     },
     "metadata": {
      "needs_background": "light"
     },
     "output_type": "display_data"
    }
   ],
   "source": [
    "plt.plot(train_loss,label='train dice loss')\n",
    "plt.plot(val_loss,label='val dice loss')\n",
    "plt.legend()\n",
    "plt.title('Dice Loss Plot')\n",
    "plt.show()"
   ]
  },
  {
   "cell_type": "code",
   "execution_count": null,
   "metadata": {},
   "outputs": [],
   "source": [
    "torch.save(model.state_dict(), '/home/abharani/data/Unet256_v1_epoch_25')"
   ]
  },
  {
   "cell_type": "code",
   "execution_count": null,
   "metadata": {},
   "outputs": [],
   "source": [
    "# model = Unet256((3,256,256)).to(device)\n",
    "# model.load_state_dict(torch.load('/home/abharani/data/Unet256_v1_epoch_10'))\n",
    "# model.eval()"
   ]
  },
  {
   "cell_type": "code",
   "execution_count": 20,
   "metadata": {},
   "outputs": [
    {
     "name": "stdout",
     "output_type": "stream",
     "text": [
      "torch.Size([32, 1, 256, 256])\n"
     ]
    }
   ],
   "source": [
    "model.eval()   # Set model to evaluate mode\n",
    "\n",
    "test_loader = DataLoader(dataset_final['test'],batch_size=32,  collate_fn=collate_fn,num_workers=4, pin_memory=True)\n",
    "\n",
    "t_images, t_masks, t_isup_grade  = next(iter(test_loader))\n",
    "t_images = t_images.to(device, dtype = torch.float32)\n",
    "t_masks = t_masks.to(device, dtype = torch.float32)\n",
    "# inputs = torch.reshape(inputs,(inputs.shape[0],inputs.shape[3],inputs.shape[1],inputs.shape[2])) #  inputs.reshape [N, C, W, H]\n",
    "# labels = torch.reshape(labels,(labels.shape[0],labels.shape[3],labels.shape[1],labels.shape[2])) #  inputs.reshape [N, C, W, H]\n",
    "\n",
    "\n",
    "t_preds = model(t_images)\n",
    "t_preds = t_preds.to(device)\n",
    "# pred = torch.sigmoid(pred) # it will convert to 0 and 1 never do for multi class\n",
    "# pred = pred.data.cpu().numpy()\n",
    "print(t_preds.shape)"
   ]
  },
  {
   "cell_type": "code",
   "execution_count": 21,
   "metadata": {},
   "outputs": [
    {
     "name": "stdout",
     "output_type": "stream",
     "text": [
      "tensor([-2.6672, -2.6136, -2.5723,  ...,  1.9707,  1.9896,  2.0061],\n",
      "       device='cuda:0', grad_fn=<NotImplemented>)\n",
      "tensor([0., 1., 2., 3., 4.], device='cuda:0')\n"
     ]
    }
   ],
   "source": [
    "print(torch.unique(t_preds[0]))\n",
    "print(torch.unique(t_masks[0]))"
   ]
  },
  {
   "cell_type": "code",
   "execution_count": null,
   "metadata": {},
   "outputs": [],
   "source": [
    "\n",
    "print(len(torch.unique(t_preds[0])))\n",
    "\n",
    "# x = torch.max(x,torch.tensor([0.]))\n",
    "\n",
    "print(torch.unique(t_masks[0]))"
   ]
  },
  {
   "cell_type": "code",
   "execution_count": 22,
   "metadata": {},
   "outputs": [
    {
     "data": {
      "image/png": "[encoded data removed]",
      "text/plain": [
       "<Figure size 1440x1440 with 1 Axes>"
      ]
     },
     "metadata": {
      "needs_background": "light"
     },
     "output_type": "display_data"
    }
   ],
   "source": [
    "cmap = matplotlib.colors.ListedColormap(['black', 'gray', 'green', 'yellow', 'orange', 'red'])\n",
    "plt.figure(figsize=(20,20))\n",
    "plt.title(\"Predict Mask\")\n",
    "no_ = 1\n",
    "for idx in range(0,no_):\n",
    "#      torch.nn.functional.relu(t_preds[idx], inplace=True)\n",
    "     t_pred = mask_convert(t_preds[idx])\n",
    "     plt.subplot(2,no_,idx+no_+1)\n",
    "     plt.imshow(t_pred,cmap=cmap)\n",
    "\n",
    "plt.show()        "
   ]
  },
  {
   "cell_type": "code",
   "execution_count": 23,
   "metadata": {},
   "outputs": [
    {
     "data": {
      "image/png": "[encoded data removed]",
      "text/plain": [
       "<Figure size 1440x1440 with 1 Axes>"
      ]
     },
     "metadata": {
      "needs_background": "light"
     },
     "output_type": "display_data"
    }
   ],
   "source": [
    "plt.figure(figsize=(20,20))\n",
    "for idx in range(0,no_):\n",
    "     t_mask = mask_convert(t_masks[idx])\n",
    "     plt.subplot(2,no_,idx+no_+1)\n",
    "     plt.imshow(t_mask,cmap=cmap, interpolation='nearest',)  \n",
    "plt.show()"
   ]
  },
  {
   "cell_type": "code",
   "execution_count": 36,
   "metadata": {},
   "outputs": [],
   "source": [
    "def plot_test_results(t_images, t_preds, t_masks, isup_grade, i) :\n",
    "    \"\"\" t_preds : predicted masks output N, classes, 224, 224\n",
    "        t_masks : input masks N, clasees, 224, 224 \n",
    "        isup_grader : N\n",
    "        i : image number to plot\n",
    "    \"\"\" \n",
    "        \n",
    "    input_image_i = t_images[i,:,:,:]\n",
    "    predicted_mask_i = t_preds[i].squeeze()\n",
    "    original_mask_i  = t_masks[i]\n",
    "#     predicted_mask_i = torch.argmax(t_preds[i], dim=0)\n",
    "#     original_mask_i = torch.argmax(t_masks[i], dim=0)\n",
    "    cmap = matplotlib.colors.ListedColormap(['black', 'gray', 'green', 'yellow', 'orange', 'red'])\n",
    "    cmap_p = matplotlib.colors.ListedColormap(['black', 'black', 'yellow','orange', 'red'])\n",
    "\n",
    "    fig = plt.figure(figsize=(20, 20))\n",
    "#     plt.title(\"Test Results\")\n",
    "\n",
    "    # ============ AX1 ============ \n",
    "    ax1 = fig.add_subplot(3, 3, 1)\n",
    "    ax1.set_title(\"Input Image with isup grade {}\".format(isup_grade[i]))\n",
    "    ax1.set_xticks([])\n",
    "    ax1.set_yticks([])\n",
    "    ax1.imshow(image_convert(input_image_i).astype('uint8'))   \n",
    "\n",
    "\n",
    "    # ============ AX2 ============ \n",
    "    ax2 = fig.add_subplot(3, 3, 2)\n",
    "    ax2.set_title(\"Original Mask\")\n",
    "    ax2.set_xticks([])\n",
    "    ax2.set_yticks([])\n",
    "    ax2.imshow(original_mask_i.clone().cpu().numpy(),cmap=cmap, interpolation='nearest')\n",
    "\n",
    "\n",
    "    # ============ AX3 ============ \n",
    "    ax3 = fig.add_subplot(3, 3, 3)\n",
    "    ax3.set_title(\"Predicted Mask\")\n",
    "    ax3.set_xticks([])\n",
    "    ax3.set_yticks([])\n",
    "    ax3.imshow(predicted_mask_i.clone().cpu().detach().numpy(),cmap=cmap_p)   \n",
    "    \n"
   ]
  },
  {
   "cell_type": "code",
   "execution_count": 38,
   "metadata": {},
   "outputs": [
    {
     "data": {
      "image/png": "[encoded data removed]",
      "text/plain": [
       "<Figure size 1440x1440 with 3 Axes>"
      ]
     },
     "metadata": {},
     "output_type": "display_data"
    }
   ],
   "source": [
    "plot_test_results(t_images, t_preds, t_masks, t_isup_grade,0)"
   ]
  },
  {
   "cell_type": "code",
   "execution_count": null,
   "metadata": {},
   "outputs": [],
   "source": []
  }
 ],
 "metadata": {
  "kernelspec": {
   "display_name": "Python [conda env:cs231n]",
   "language": "python",
   "name": "conda-env-cs231n-py"
  },
  "language_info": {
   "codemirror_mode": {
    "name": "ipython",
    "version": 3
   },
   "file_extension": ".py",
   "mimetype": "text/x-python",
   "name": "python",
   "nbconvert_exporter": "python",
   "pygments_lexer": "ipython3",
   "version": "3.7.7"
  }
 },
 "nbformat": 4,
 "nbformat_minor": 4
}
