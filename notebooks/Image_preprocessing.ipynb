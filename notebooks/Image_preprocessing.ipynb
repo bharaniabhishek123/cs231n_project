{
 "cells": [
  {
   "cell_type": "markdown",
   "metadata": {},
   "source": [
    "## This notebook contains \n",
    "1. Image pre-processing work done to remove white spaces. \n",
    "2. Figuring out which page in multipage tiff image to use.\n",
    "3. converting tiff to jpg and storing image to futher processing."
   ]
  },
  {
   "cell_type": "code",
   "execution_count": 1,
   "metadata": {},
   "outputs": [],
   "source": [
    "import numpy as np \n",
    "import pandas as pd \n",
    "import slidingwindow as sw \n",
    "import skimage \n",
    "from skimage import io \n",
    "from pandas import DataFrame\n",
    "import matplotlib.pyplot as plt\n",
    "%matplotlib inline\n",
    "import os "
   ]
  },
  {
   "cell_type": "code",
   "execution_count": 2,
   "metadata": {},
   "outputs": [
    {
     "name": "stdout",
     "output_type": "stream",
     "text": [
      "sample_submission.csv  test.csv   train_images\r\n",
      "small_train.csv        train.csv  train_label_masks\r\n"
     ]
    }
   ],
   "source": [
    "BASE_FOLDER = \"/project/data/\"   # if on gcloud \n",
    "\n",
    "!ls {BASE_FOLDER}\n",
    "\n",
    "train = pd.read_csv(os.path.join(BASE_FOLDER, 'train.csv'))\n",
    "# test = pd.read_csv(os.path.join(BASE_FOLDER, 'test.csv'))\n",
    "\n",
    "image_dir = os.path.join(BASE_FOLDER, 'train_images/')\n",
    "# mask_dir = os.path.join(BASE_FOLDER, 'train_label_masks')"
   ]
  },
  {
   "cell_type": "markdown",
   "metadata": {},
   "source": [
    "### Part 1"
   ]
  },
  {
   "cell_type": "markdown",
   "metadata": {},
   "source": [
    "### Extracting Original tiff multipage image , there are 3 pages with different resolution . 16x, 8x, 4x. \n"
   ]
  },
  {
   "cell_type": "code",
   "execution_count": 3,
   "metadata": {},
   "outputs": [
    {
     "name": "stdout",
     "output_type": "stream",
     "text": [
      "hi-resolution image shape (31488, 35840, 3) ,mid-resolution image shape (7872, 8960, 3), low-resolution image shape (1968, 2240, 3)\n"
     ]
    }
   ],
   "source": [
    "image_id = '3bbe8e2a01ca4d4e8cda9a6bb5491ad7'\n",
    "\n",
    "image_file_path = os.path.join(image_dir,image_id + \".tiff\")\n",
    "\n",
    "hires_image = skimage.io.MultiImage(image_file_path)[0]\n",
    "hires_image = np.array(hires_image)\n",
    "\n",
    "midres_image = skimage.io.MultiImage(image_file_path)[1]\n",
    "midres_image = np.array(midres_image)\n",
    "\n",
    "lowres_image = skimage.io.MultiImage(image_file_path)[2]\n",
    "lowres_image = np.array(lowres_image)\n",
    "\n",
    "print(\"hi-resolution image shape {} ,mid-resolution image shape {}, low-resolution image shape {}\".format(hires_image.shape, midres_image.shape, lowres_image.shape))"
   ]
  },
  {
   "cell_type": "code",
   "execution_count": 4,
   "metadata": {},
   "outputs": [
    {
     "data": {
      "image/png": "[encoded data removed]",
      "text/plain": [
       "<Figure size 432x288 with 1 Axes>"
      ]
     },
     "metadata": {
      "needs_background": "light"
     },
     "output_type": "display_data"
    }
   ],
   "source": [
    "imgplot = plt.imshow(hires_image)"
   ]
  },
  {
   "cell_type": "code",
   "execution_count": 5,
   "metadata": {},
   "outputs": [],
   "source": [
    "def compute_statistics(image):\n",
    "    \"\"\"\n",
    "    Args:\n",
    "        image                  numpy.array   multi-dimensional array of the form WxHxC\n",
    "    \n",
    "    Returns:\n",
    "        ratio_white_pixels     float         ratio of white pixels over total pixels in the image \n",
    "    \"\"\"\n",
    "    width, height = image.shape[0], image.shape[1]\n",
    "    num_pixels = width * height\n",
    "    \n",
    "    num_white_pixels = 0\n",
    "    \n",
    "    summed_matrix = np.sum(image, axis=-1)\n",
    "    # Note: A 3-channel white pixel has RGB (255, 255, 255)\n",
    "    num_white_pixels = np.count_nonzero(summed_matrix > 620)\n",
    "    ratio_white_pixels = num_white_pixels / num_pixels\n",
    "    \n",
    "    green_concentration = np.mean(image[1])\n",
    "    blue_concentration = np.mean(image[2])\n",
    "    \n",
    "    return ratio_white_pixels, green_concentration, blue_concentration\n",
    "\n",
    "def select_k_best_regions(regions, k=20):\n",
    "    \"\"\"\n",
    "    Args:\n",
    "        regions               list           list of 2-component tuples first component the region, \n",
    "                                             second component the ratio of white pixels\n",
    "                                             \n",
    "        k                     int            number of regions to select\n",
    "    \"\"\"\n",
    "    regions = [x for x in regions if x[3] > 180 and x[4] > 180]\n",
    "    k_best_regions = sorted(regions, key=lambda tup: tup[2])[:k]\n",
    "    return k_best_regions\n",
    "\n",
    "def generate_patches(image, window_size=200, stride=128, k=20):\n",
    "    \n",
    "#     image = skimage.io.MultiImage(slide_path)[-2]\n",
    "#     image = np.array(image)\n",
    "    \n",
    "    max_width, max_height = image.shape[0], image.shape[1]\n",
    "    regions_container = []\n",
    "    i = 0\n",
    "    \n",
    "    while window_size + stride*i <= max_height:\n",
    "        j = 0\n",
    "        \n",
    "        while window_size + stride*j <= max_width:            \n",
    "            x_top_left_pixel = j * stride\n",
    "            y_top_left_pixel = i * stride\n",
    "            \n",
    "            patch = image[\n",
    "                x_top_left_pixel : x_top_left_pixel + window_size,\n",
    "                y_top_left_pixel : y_top_left_pixel + window_size,\n",
    "                :\n",
    "            ]\n",
    "            \n",
    "            ratio_white_pixels, green_concentration, blue_concentration = compute_statistics(patch)\n",
    "            \n",
    "            region_tuple = (x_top_left_pixel, y_top_left_pixel, ratio_white_pixels, green_concentration, blue_concentration)\n",
    "            regions_container.append(region_tuple)\n",
    "            \n",
    "            j += 1\n",
    "        \n",
    "        i += 1\n",
    "    \n",
    "    k_best_region_coordinates = select_k_best_regions(regions_container, k=k)\n",
    "    k_best_regions = get_k_best_regions(k_best_region_coordinates, image, window_size)\n",
    "    \n",
    "    return image, k_best_region_coordinates, k_best_regions\n",
    "\n",
    "def display_images(regions, title):\n",
    "    fig, ax = plt.subplots(5, 4, figsize=(15, 15))\n",
    "    \n",
    "    for i, region in regions.items():\n",
    "        ax[i//4, i%4].imshow(region)\n",
    "    \n",
    "    fig.suptitle(title)\n",
    "    \n",
    "    \n",
    "def get_k_best_regions(coordinates, image, window_size=512):\n",
    "    regions = {}\n",
    "    for i, tup in enumerate(coordinates):\n",
    "        x, y = tup[0], tup[1]\n",
    "        regions[i] = image[x : x+window_size, y : y+window_size, :]\n",
    "    \n",
    "    return regions\n",
    "\n",
    "\n",
    "def glue_to_one_picture(image_patches, window_size=200, k=16):\n",
    "    side = int(np.sqrt(k))\n",
    "    image = np.zeros((side*window_size, side*window_size, 3), dtype=np.int16)\n",
    "        \n",
    "    for i, patch in image_patches.items():\n",
    "        x = i // side\n",
    "        y = i % side\n",
    "        image[\n",
    "            x * window_size : (x+1) * window_size,\n",
    "            y * window_size : (y+1) * window_size,\n",
    "            :\n",
    "        ] = patch\n",
    "    \n",
    "    return image"
   ]
  },
  {
   "cell_type": "code",
   "execution_count": null,
   "metadata": {},
   "outputs": [],
   "source": [
    "WINDOW_SIZE = 256\n",
    "STRIDE = 64\n",
    "K = 16\n",
    "        \n",
    "hires_image, best_coordinates, best_regions_hires = generate_patches(hires_image, window_size=WINDOW_SIZE, stride=STRIDE, k=K)\n",
    "hires_glued_image = glue_to_one_picture(best_regions_hires, window_size=WINDOW_SIZE, k=K)\n",
    "\n",
    "midres_image, best_coordinates, best_regions_midres = generate_patches(midres_image, window_size=WINDOW_SIZE, stride=STRIDE, k=K)\n",
    "midres_glued_image = glue_to_one_picture(best_regions_midres, window_size=WINDOW_SIZE, k=K)\n",
    "\n",
    "lowres_image, best_coordinates, best_regions_lowres = generate_patches(lowres_image, window_size=WINDOW_SIZE, stride=STRIDE, k=K)\n",
    "lowres_glued_image = glue_to_one_picture(best_regions_lowres, window_size=WINDOW_SIZE, k=K)\n",
    "\n"
   ]
  },
  {
   "cell_type": "code",
   "execution_count": null,
   "metadata": {},
   "outputs": [],
   "source": [
    "imgplot = plt.imshow(midres_glued_image)\n",
    "midres_glued_image.shape"
   ]
  },
  {
   "cell_type": "code",
   "execution_count": null,
   "metadata": {},
   "outputs": [],
   "source": [
    "my_dpi = 400\n",
    "fig = plt.figure(figsize=(3, 3), dpi=my_dpi)\n",
    "\n",
    "# ============ AX1 ============ \n",
    "# High Resolution Image\n",
    "ax1 = fig.add_subplot(1, 3, 1)\n",
    "# ax1.set_title(\"Hi-Resolution Image\")\n",
    "ax1.set_title(\"Hi-Res\")\n",
    "ax1.set_xticks([])\n",
    "ax1.set_yticks([])\n",
    "ax1.imshow(hires_glued_image)\n",
    "\n",
    "\n",
    "# ============ AX2 ============ \n",
    "# Mid Resolution Image\n",
    "ax2 = fig.add_subplot(1, 3, 2)\n",
    "# ax1.set_title(\"Mid-Resolution Image\")\n",
    "ax2.set_title(\"Mid-Res\")\n",
    "ax2.set_xticks([])\n",
    "ax2.set_yticks([])\n",
    "ax2.imshow(midres_glued_image)\n",
    "\n",
    "\n",
    "# ============ AX3 ============ \n",
    "# Low Resolution Image\n",
    "ax3 = fig.add_subplot(1, 3, 3)\n",
    "# ax1.set_title(\"Low-Resolution Image\")\n",
    "ax3.set_title(\"Low-Res\")\n",
    "ax3.set_xticks([])\n",
    "ax3.set_yticks([])\n",
    "ax3.imshow(lowres_glued_image)\n"
   ]
  },
  {
   "cell_type": "code",
   "execution_count": null,
   "metadata": {},
   "outputs": [],
   "source": [
    "windows = sw.generate(midres_glued_image, sw.DimOrder.HeightWidthChannel, 512, 0.5)\n",
    "print(\"Number of sliding windows generated {}\".format(len(windows)))\n",
    "list_subset_images = []\n",
    "\n",
    "for window in windows:\n",
    "    subset = midres_glued_image[ window.indices() ]\n",
    "    list_subset_images.append(subset)\n"
   ]
  },
  {
   "cell_type": "code",
   "execution_count": null,
   "metadata": {},
   "outputs": [],
   "source": [
    "import numpy as np\n",
    "import matplotlib.pyplot as plt \n",
    "# image modules\n",
    "from PIL import Image\n",
    "import matplotlib.image as mpimg \n",
    "# import cv2\n",
    "# PyTorch\n",
    "import torch\n",
    "from torch.utils import data\n",
    "from torchvision import transforms\n",
    "# other module\n",
    "import os\n",
    "\n",
    "my_dpi = 200\n",
    "fig = plt.figure(figsize=(6, 6), dpi=my_dpi)\n",
    "\n",
    "# ============ AX1 ============ \n",
    "# PIL Image\n",
    "ax1 = fig.add_subplot(3, 3, 1)\n",
    "ax1.set_title(\"Image 1\")\n",
    "ax1.set_xticks([])\n",
    "ax1.set_yticks([])\n",
    "# pil_img = Image.open(os.path.join('my_data', 'img1.jpg'))\n",
    "ax1.imshow(list_subset_images[0])\n",
    "\n",
    "# ============ AX2 ============ \n",
    "# mpimg image\n",
    "ax2 = fig.add_subplot(3, 3, 2)\n",
    "ax2.set_title(\"Image 2\")\n",
    "ax2.set_xticks([])\n",
    "ax2.set_yticks([])\n",
    "# mpimg_img = mpimg.imread(os.path.join('my_data', 'img2.jpg')) \n",
    "ax2.imshow(list_subset_images[1])\n",
    "\n",
    "# ============ AX3 ============ \n",
    "# CV2 image (default)\n",
    "ax3 = fig.add_subplot(3, 3, 3)\n",
    "ax3.set_title(\"image 3\")\n",
    "ax3.set_xticks([])\n",
    "ax3.set_yticks([])\n",
    "# opencv_img = cv2.imread(os.path.join('my_data', 'img3.jpg'))\n",
    "ax3.imshow(list_subset_images[2])\n",
    "\n",
    "# ============ AX4 ============ \n",
    "# CV2 image (transform)\n",
    "ax4 = fig.add_subplot(3, 3, 4)\n",
    "ax4.set_title(\"image 4\")\n",
    "ax4.set_xticks([])\n",
    "ax4.set_yticks([])\n",
    "# cv2_img = cv2.imread(os.path.join('my_data', 'img3.jpg'))\n",
    "# mod_cv2_img = cv2.cvtColor(cv2_img, cv2.COLOR_BGR2RGB) \n",
    "ax4.imshow(list_subset_images[3])\n",
    "\n",
    "# ============ AX5 ============ \n",
    "# CV2 image (transform)\n",
    "ax5 = fig.add_subplot(3, 3, 5)\n",
    "ax5.set_title(\"image 5\")\n",
    "ax5.set_xticks([])\n",
    "ax5.set_yticks([])\n",
    "ax5.imshow(list_subset_images[4])\n",
    "\n",
    "# ============ AX6 ============ \n",
    "# PIL image. With PyTorch, tensorise and de-tensorise\n",
    "ax6 = fig.add_subplot(3, 3, 6)\n",
    "ax6.set_title(\"image 6\")\n",
    "ax6.set_xticks([])\n",
    "ax6.set_yticks([])\n",
    "ax6.imshow(list_subset_images[5])\n",
    "\n",
    "\n",
    "\n",
    "# ============ AX7 ============ \n",
    "# PIL image. With PyTorch, tensorise and de-tensorise\n",
    "ax7 = fig.add_subplot(3, 3, 7)\n",
    "ax7.set_title(\"image 7\")\n",
    "ax7.set_xticks([])\n",
    "ax7.set_yticks([])\n",
    "ax7.imshow(list_subset_images[6])\n",
    "\n",
    "\n",
    "# ============ AX8 ============ \n",
    "# PIL image. With PyTorch, tensorise and de-tensorise\n",
    "ax8 = fig.add_subplot(3, 3, 8)\n",
    "ax8.set_title(\"image 8\")\n",
    "ax8.set_xticks([])\n",
    "ax8.set_yticks([])\n",
    "ax8.imshow(list_subset_images[7])\n",
    "\n",
    "\n",
    "# ============ AX9 ============ \n",
    "# PIL image. With PyTorch, tensorise and de-tensorise\n",
    "ax9 = fig.add_subplot(3, 3, 9)\n",
    "ax9.set_title(\"image 9\")\n",
    "ax9.set_xticks([])\n",
    "ax9.set_yticks([])\n",
    "ax9.imshow(list_subset_images[8])\n",
    "\n"
   ]
  },
  {
   "cell_type": "markdown",
   "metadata": {},
   "source": [
    "## Part 2 \n",
    "We are selecting mid-resolution images for the image augmentation"
   ]
  },
  {
   "cell_type": "code",
   "execution_count": null,
   "metadata": {},
   "outputs": [],
   "source": [
    "small_train = pd.read_csv(os.path.join(BASE_FOLDER, 'small_train.csv'))\n",
    "\n",
    "small_train.head()\n",
    "\n",
    "midres_image, best_coordinates, best_regions_midres = generate_patches(midres_image, window_size=WINDOW_SIZE, stride=STRIDE, k=K)\n",
    "midres_glued_image = glue_to_one_picture(best_regions_midres, window_size=WINDOW_SIZE, k=K)\n",
    "\n",
    "\n",
    "image_id = '3bbe8e2a01ca4d4e8cda9a6bb5491ad7'\n",
    "\n",
    "image_file_path = os.path.join(image_dir,image_id + \".tiff\")\n",
    "\n",
    "hires_image = skimage.io.MultiImage(image_file_path)[0]\n",
    "hires_image = np.array(hires_image)\n",
    "\n",
    "midres_image = skimage.io.MultiImage(image_file_path)[1]\n",
    "midres_image = np.array(midres_image)"
   ]
  },
  {
   "cell_type": "code",
   "execution_count": null,
   "metadata": {},
   "outputs": [],
   "source": [
    "from skimage import img_as_ubyte\n",
    "skimage.io.imsave(\"midres.jpeg\",img_as_ubyte(midres_glued_image),quality=100)"
   ]
  },
  {
   "cell_type": "code",
   "execution_count": null,
   "metadata": {},
   "outputs": [],
   "source": [
    "img =skimage.io.imread(\"midres.jpeg\")"
   ]
  },
  {
   "cell_type": "code",
   "execution_count": null,
   "metadata": {},
   "outputs": [],
   "source": [
    "plt.imshow(img)"
   ]
  },
  {
   "cell_type": "markdown",
   "metadata": {},
   "source": [
    "### Part 3\n",
    "Convert .tiff files into jpg, assumption : we take channel 2 (resolution of 8x) \n",
    "### generate list of files and convert 1000 images in batches to avoid duplication"
   ]
  },
  {
   "cell_type": "code",
   "execution_count": 4,
   "metadata": {},
   "outputs": [],
   "source": [
    "# # files = get_image_files(image_dir)\n",
    "# part2 = files[1000:2000]\n",
    "# part3 = files[2000:3000]\n",
    "# part4 = files[3000:4000]\n",
    "# part5 = files[4000:5000]\n",
    "# part6 = files[5000:6000]\n",
    "# part7 = files[6000:7000]\n",
    "# part8 = files[7000:8000]\n",
    "# part9 = files[8000:9000]\n",
    "# part10 = files[9000:10000]\n",
    "# part11 = files[10000:]"
   ]
  },
  {
   "cell_type": "code",
   "execution_count": 2,
   "metadata": {},
   "outputs": [],
   "source": [
    "# for file_path  in part11:\n",
    "#     file_path = str(file_path)\n",
    "#     temp_file_path = file_path\n",
    "#     image_id = temp_file_path.split(\"/\")[-1]   \n",
    "\n",
    "#     label_class = label_func(file_path)\n",
    "    \n",
    "#     my_path = '/home/abharani/data/train_images/'\n",
    "    \n",
    "#     print(image_id)\n",
    "#     command = 'convert ' + str(file_path) + \"[1]\" + ' ' + my_path + image_id.replace('.tiff',\"_\" + str(label_class)+ '.jpg')\n",
    "#     print(command)\n",
    "    \n",
    "#     try:\n",
    "#         os.system(command)    \n",
    "#         pass\n",
    "#     except:\n",
    "#         print(\"Issue with image_id {}\".format(image_id))"
   ]
  },
  {
   "cell_type": "markdown",
   "metadata": {},
   "source": [
    "#### Compare Image after conversion"
   ]
  },
  {
   "cell_type": "code",
   "execution_count": 3,
   "metadata": {},
   "outputs": [],
   "source": [
    "def comparision(image_id):\n",
    "    original_image = skimage.io.MultiImage('/project/data/train_images/' + image_id + '.tiff')[1]\n",
    "    label_class = train.loc[train['image_id']==image_id]['isup_grade'].values[0]\n",
    "    \n",
    "    converted_image = skimage.io.MultiImage('/home/abharani/data/train_images/'+ str(label_class) + '/' + image_id + '.jpg')[0]\n",
    "    \n",
    "    print(original_image.shape)\n",
    "    print(converted_image.shape)    \n",
    "    \n",
    "# comparision('1d735506b1d8339520792d6e8ccb2194')  "
   ]
  },
  {
   "cell_type": "markdown",
   "metadata": {},
   "source": [
    "### Notebook Ends "
   ]
  },
  {
   "cell_type": "code",
   "execution_count": null,
   "metadata": {},
   "outputs": [],
   "source": [
    "img =skimage.io.imread('/project/yi_data/panda-16x128x128-tiles-data/train/cd0ea1fcb034376845c7af09d2154603_9.png')\n",
    "plt.imshow(img)"
   ]
  },
  {
   "cell_type": "code",
   "execution_count": null,
   "metadata": {},
   "outputs": [],
   "source": [
    "from utils import *\n",
    "from fastai2.vision.widgets import *\n",
    "path = Path(image_dir)\n",
    "print(path)\n",
    "fns = get_image_files(path)\n",
    "print(fns)"
   ]
  },
  {
   "cell_type": "markdown",
   "metadata": {},
   "source": [
    "# Data loader part starts "
   ]
  },
  {
   "cell_type": "code",
   "execution_count": null,
   "metadata": {},
   "outputs": [],
   "source": [
    "# from PIL import Image\n",
    "# from PIL import ImageSequence\n",
    "# from PIL import TiffImagePlugin\n",
    "\n",
    "# INFILE  = 'multipage_tif_example.tif'\n",
    "# OUTFILE = 'multipage_tif_resized.tif'\n",
    "\n",
    "# print ('Resizing TIF pages')\n",
    "# pages = []\n",
    "# imagehandler = Image.open(INFILE)\n",
    "# for page in ImageSequence.Iterator(imagehandler):\n",
    "#     new_size = (page.size[0]/2, page.size[1]/2)\n",
    "#     page = page.resize(new_size, Image.ANTIALIAS)\n",
    "#     pages.append(page)\n",
    "\n",
    "# print ('Writing multipage TIF')\n",
    "# with TiffImagePlugin.AppendingTiffWriter(OUTFILE) as tf:\n",
    "#     for page in pages:\n",
    "#         page.save(tf)\n",
    "#         tf.newFrame()"
   ]
  }
 ],
 "metadata": {
  "kernelspec": {
   "display_name": "Python [conda env:cs231n]",
   "language": "python",
   "name": "conda-env-cs231n-py"
  },
  "language_info": {
   "codemirror_mode": {
    "name": "ipython",
    "version": 3
   },
   "file_extension": ".py",
   "mimetype": "text/x-python",
   "name": "python",
   "nbconvert_exporter": "python",
   "pygments_lexer": "ipython3",
   "version": "3.7.7"
  }
 },
 "nbformat": 4,
 "nbformat_minor": 2
}
